{
 "cells": [
  {
   "cell_type": "markdown",
   "id": "2f38a4f1",
   "metadata": {},
   "source": [
    "## Загружаем необходимые библиотеки"
   ]
  },
  {
   "cell_type": "code",
   "execution_count": 466,
   "id": "638692d0",
   "metadata": {},
   "outputs": [],
   "source": [
    "import numpy as np\n",
    "import matplotlib.pyplot as plt\n",
    "%matplotlib inline\n",
    "import pandas as pd "
   ]
  },
  {
   "cell_type": "markdown",
   "id": "73fbdadc",
   "metadata": {},
   "source": [
    "## Предобработка данных"
   ]
  },
  {
   "cell_type": "markdown",
   "id": "feb2dc22",
   "metadata": {},
   "source": [
    " ### 1. Загружаем данные"
   ]
  },
  {
   "cell_type": "code",
   "execution_count": 467,
   "id": "6e1916b7",
   "metadata": {},
   "outputs": [],
   "source": [
    "url = \"https://raw.githubusercontent.com/ArisovaAnastasia/MachineLearning/master/BankCustomerData.csv\"\n",
    "data = pd.read_csv(url)"
   ]
  },
  {
   "cell_type": "code",
   "execution_count": 468,
   "id": "f62b5146",
   "metadata": {},
   "outputs": [
    {
     "data": {
      "text/plain": [
       "(42639, 17)"
      ]
     },
     "execution_count": 468,
     "metadata": {},
     "output_type": "execute_result"
    }
   ],
   "source": [
    "data.shape"
   ]
  },
  {
   "cell_type": "markdown",
   "id": "ca9f1f12",
   "metadata": {},
   "source": [
    "### 2. Обработка пропущенных значений\n",
    "Заменим пропущенные значения категориальных признаков 'job', 'education', 'contact' на соответствующие моды:"
   ]
  },
  {
   "cell_type": "code",
   "execution_count": 469,
   "id": "9a9d80c3",
   "metadata": {},
   "outputs": [
    {
     "name": "stderr",
     "output_type": "stream",
     "text": [
      "D:\\Program\\anaconda\\lib\\site-packages\\pandas\\core\\arrays\\categorical.py:2487: FutureWarning: The `inplace` parameter in pandas.Categorical.remove_unused_categories is deprecated and will be removed in a future version.\n",
      "  res = method(*args, **kwargs)\n"
     ]
    }
   ],
   "source": [
    "data = data.astype({\"job\":'category', \"education\":'category', \"contact\":'category'}) \n",
    "data.replace({'job':\"unknown\",'education':\"unknown\",'contact':\"unknown\"},{'job':data['job'].mode().iloc[0],'education':data['education'].mode().iloc[0],'contact':data['contact'].mode().iloc[0]}, inplace=True)\n",
    "for col in ['job', 'education', 'contact']:\n",
    "    data[col].cat.remove_unused_categories(inplace=True)"
   ]
  },
  {
   "cell_type": "markdown",
   "id": "ef7bbf9b",
   "metadata": {},
   "source": [
    "### 3. Обработка категориальных признаков"
   ]
  },
  {
   "cell_type": "code",
   "execution_count": 470,
   "id": "49be2392",
   "metadata": {},
   "outputs": [],
   "source": [
    "data['default'] = pd.factorize(data['default'], sort = True)[0]\n",
    "data['housing'] = pd.factorize(data['housing'],sort = True)[0]\n",
    "data['loan'] = pd.factorize(data['loan'],sort = True)[0]\n",
    "\n",
    "for col in ['job', 'marital', 'education', 'contact', 'month','poutcome']:\n",
    "    dummies = pd.get_dummies(data[col])\n",
    "    data = pd.concat((data, dummies), axis=1)\n",
    "    data = data.drop([col],  axis=1)"
   ]
  },
  {
   "cell_type": "code",
   "execution_count": 471,
   "id": "d4ebdf1b",
   "metadata": {},
   "outputs": [],
   "source": [
    "data_stand = data.drop(['term_deposit'], axis=1)\n",
    "data_stand = (data_stand - data_stand.mean(axis = 0))/data_stand.std(axis = 0)"
   ]
  },
  {
   "cell_type": "code",
   "execution_count": 472,
   "id": "5906c574",
   "metadata": {},
   "outputs": [],
   "source": [
    "data = pd.concat((data_stand, data['term_deposit']), axis=1)"
   ]
  },
  {
   "cell_type": "markdown",
   "id": "df75e3d0",
   "metadata": {},
   "source": [
    "### 4. Обработка выбросов"
   ]
  },
  {
   "cell_type": "code",
   "execution_count": 473,
   "id": "4a91a54f",
   "metadata": {},
   "outputs": [],
   "source": [
    "rows_to_drop = data[\n",
    "    (data['balance'] < data['balance'].quantile(0.005)) | (data['balance'] > data['balance'].quantile(0.995))].index\n",
    "data = data.drop(rows_to_drop)"
   ]
  },
  {
   "cell_type": "markdown",
   "id": "e1ad5bb3",
   "metadata": {},
   "source": [
    "## Разбиваем данные на обучающую и тестовую выборки"
   ]
  },
  {
   "cell_type": "code",
   "execution_count": 474,
   "id": "5e80e901",
   "metadata": {},
   "outputs": [],
   "source": [
    "from sklearn.model_selection import train_test_split\n",
    "y = data.term_deposit\n",
    "X = data.drop(['term_deposit'], axis=1)"
   ]
  },
  {
   "cell_type": "code",
   "execution_count": 475,
   "id": "91939a8a",
   "metadata": {},
   "outputs": [],
   "source": [
    "y = y.apply(lambda x: 1 if x == \"yes\" else 0)\n",
    "\n",
    "X_train, X_test, y_train, y_test = train_test_split(X, y, test_size = 0.1, stratify = y, random_state = 21)"
   ]
  },
  {
   "cell_type": "markdown",
   "id": "d148487e",
   "metadata": {},
   "source": [
    "## Обучаем классификатор"
   ]
  },
  {
   "cell_type": "code",
   "execution_count": 476,
   "id": "09af3683",
   "metadata": {},
   "outputs": [],
   "source": [
    "from sklearn.neural_network import MLPClassifier\n",
    "\n",
    "mlp_model = MLPClassifier(hidden_layer_sizes = (30,),\n",
    "                          solver = 'lbfgs', \n",
    "                          activation = 'logistic',\n",
    "                          max_iter = 1000,\n",
    "                          random_state = 42)"
   ]
  },
  {
   "cell_type": "code",
   "execution_count": 477,
   "id": "da81851c",
   "metadata": {},
   "outputs": [
    {
     "name": "stdout",
     "output_type": "stream",
     "text": [
      "Wall time: 18.6 s\n"
     ]
    },
    {
     "data": {
      "text/plain": [
       "MLPClassifier(activation='logistic', hidden_layer_sizes=(30,), max_iter=1000,\n",
       "              random_state=42, solver='lbfgs')"
      ]
     },
     "execution_count": 477,
     "metadata": {},
     "output_type": "execute_result"
    }
   ],
   "source": [
    "%%time\n",
    "mlp_model.fit(X_train, y_train)"
   ]
  },
  {
   "cell_type": "code",
   "execution_count": 478,
   "id": "cede424d",
   "metadata": {},
   "outputs": [
    {
     "data": {
      "text/plain": [
       "((37989, 45), (4222, 45))"
      ]
     },
     "execution_count": 478,
     "metadata": {},
     "output_type": "execute_result"
    }
   ],
   "source": [
    "X_train.shape, X_test.shape"
   ]
  },
  {
   "cell_type": "code",
   "execution_count": 479,
   "id": "12b0c2ed",
   "metadata": {},
   "outputs": [
    {
     "name": "stdout",
     "output_type": "stream",
     "text": [
      "Error on X_train:  0.045434204638184705\n",
      "Error on X_test:  0.09924206537186164\n"
     ]
    }
   ],
   "source": [
    "from sklearn.metrics import accuracy_score\n",
    "y_train_pred = mlp_model.predict(X_train)\n",
    "y_test_pred = mlp_model.predict(X_test)\n",
    "print(\"Error on X_train: \", 1-accuracy_score(y_train, y_train_pred))\n",
    "print(\"Error on X_test: \", 1-accuracy_score(y_test, y_test_pred))"
   ]
  },
  {
   "cell_type": "markdown",
   "id": "37311cd3",
   "metadata": {},
   "source": [
    "## Подбор параметра alpha"
   ]
  },
  {
   "cell_type": "code",
   "execution_count": 480,
   "id": "9bcf387d",
   "metadata": {},
   "outputs": [],
   "source": [
    "alpha_arr = np.logspace(-2, 4, 21)\n",
    "test_err = []\n",
    "train_err = []\n",
    "train_acc = []\n",
    "test_acc = []\n",
    "\n",
    "for my_alpha in alpha_arr:\n",
    "    mlp_model = MLPClassifier(alpha = my_alpha, hidden_layer_sizes = (30,), \n",
    "                              solver = 'lbfgs', activation = 'logistic', max_iter=1000, random_state = 42)\n",
    "    mlp_model.fit(X_train, y_train)\n",
    "\n",
    "    y_train_pred = mlp_model.predict(X_train)\n",
    "    y_test_pred = mlp_model.predict(X_test)\n",
    "    \n",
    "    train_err.append(np.mean(y_train != y_train_pred))\n",
    "    test_err.append(np.mean(y_test != y_test_pred))\n",
    "    train_acc.append(accuracy_score(y_train, y_train_pred))\n",
    "    test_acc.append(accuracy_score(y_test, y_test_pred))"
   ]
  },
  {
   "cell_type": "code",
   "execution_count": 481,
   "id": "e19d8fc9",
   "metadata": {},
   "outputs": [
    {
     "data": {
      "text/plain": [
       "<matplotlib.legend.Legend at 0x29730bd3b50>"
      ]
     },
     "execution_count": 481,
     "metadata": {},
     "output_type": "execute_result"
    },
    {
     "data": {
      "image/png": "[encoded data removed]",
      "text/plain": [
       "<Figure size 432x288 with 1 Axes>"
      ]
     },
     "metadata": {
      "needs_background": "light"
     },
     "output_type": "display_data"
    }
   ],
   "source": [
    "plt.semilogx(alpha_arr, train_err, 'r-o', label = 'train')\n",
    "plt.semilogx(alpha_arr, test_err, 'b-o', label = 'test')\n",
    "plt.xlim([np.min(alpha_arr), np.max(alpha_arr)])\n",
    "plt.title('Error vs. alpha')\n",
    "plt.xlabel('alpha')\n",
    "plt.ylabel('error')\n",
    "plt.legend()"
   ]
  },
  {
   "cell_type": "code",
   "execution_count": 482,
   "id": "8494f7c6",
   "metadata": {},
   "outputs": [
    {
     "data": {
      "text/plain": [
       "<matplotlib.legend.Legend at 0x2972d4d0d30>"
      ]
     },
     "execution_count": 482,
     "metadata": {},
     "output_type": "execute_result"
    },
    {
     "data": {
      "image/png": "[encoded data removed]",
      "text/plain": [
       "<Figure size 432x288 with 1 Axes>"
      ]
     },
     "metadata": {
      "needs_background": "light"
     },
     "output_type": "display_data"
    }
   ],
   "source": [
    "plt.semilogx(alpha_arr, train_acc, 'r-o', label = 'train')\n",
    "plt.semilogx(alpha_arr, test_acc, 'b-o', label = 'test')\n",
    "plt.xlim([np.min(alpha_arr), np.max(alpha_arr)])\n",
    "plt.title('Accuracy vs. alpha')\n",
    "plt.xlabel('alpha')\n",
    "plt.ylabel('Accuracy')\n",
    "plt.legend()"
   ]
  },
  {
   "cell_type": "code",
   "execution_count": 483,
   "id": "62d0e351",
   "metadata": {},
   "outputs": [
    {
     "name": "stdout",
     "output_type": "stream",
     "text": [
      "Min error on X_train:  0.051962410171365395\n",
      "Min error on X_test:  0.07650402652771199\n"
     ]
    }
   ],
   "source": [
    "min_train_err = np.min(train_err)\n",
    "min_test_err = np.min(test_err)\n",
    "print(\"Min error on X_train: \", min_train_err)\n",
    "print(\"Min error on X_test: \", min_test_err)"
   ]
  },
  {
   "cell_type": "code",
   "execution_count": 484,
   "id": "3958e8ed",
   "metadata": {},
   "outputs": [
    {
     "name": "stdout",
     "output_type": "stream",
     "text": [
      "alpha optimal =  19.952623149688787\n"
     ]
    }
   ],
   "source": [
    "alpha_opt = alpha_arr[test_err == min_test_err]\n",
    "print(\"alpha optimal = \", alpha_opt[0])"
   ]
  },
  {
   "cell_type": "code",
   "execution_count": 485,
   "id": "5429e11e",
   "metadata": {},
   "outputs": [],
   "source": [
    "alpha_opt = alpha_opt[0]"
   ]
  },
  {
   "cell_type": "code",
   "execution_count": 486,
   "id": "9105e0b4",
   "metadata": {},
   "outputs": [
    {
     "name": "stdout",
     "output_type": "stream",
     "text": [
      "Error on X_train with optimal alpha:  0.07760141093474426\n",
      "Error on X_test with optimal alpha:  0.07650402652771199\n"
     ]
    }
   ],
   "source": [
    "mlp_model = MLPClassifier(alpha = alpha_opt, hidden_layer_sizes = (30,), \n",
    "                              solver = 'lbfgs', activation = 'logistic', max_iter=1000, random_state = 42)\n",
    "mlp_model.fit(X_train, y_train)\n",
    "\n",
    "y_train_pred = mlp_model.predict(X_train)\n",
    "y_test_pred = mlp_model.predict(X_test)\n",
    "print(\"Error on X_train with optimal alpha: \", np.mean(y_train != y_train_pred))\n",
    "print(\"Error on X_test with optimal alpha: \", np.mean(y_test != y_test_pred))"
   ]
  },
  {
   "cell_type": "code",
   "execution_count": 487,
   "id": "8b80275b",
   "metadata": {},
   "outputs": [
    {
     "name": "stdout",
     "output_type": "stream",
     "text": [
      "              precision    recall  f1-score   support\n",
      "\n",
      "           0       0.94      0.98      0.96      3829\n",
      "           1       0.66      0.37      0.47       393\n",
      "\n",
      "    accuracy                           0.92      4222\n",
      "   macro avg       0.80      0.67      0.72      4222\n",
      "weighted avg       0.91      0.92      0.91      4222\n",
      "\n"
     ]
    }
   ],
   "source": [
    "from sklearn.metrics import classification_report\n",
    "print(classification_report(y_test, y_test_pred))"
   ]
  },
  {
   "cell_type": "code",
   "execution_count": 488,
   "id": "f5a3ca75",
   "metadata": {},
   "outputs": [
    {
     "name": "stdout",
     "output_type": "stream",
     "text": [
      "[[3755  249]\n",
      " [  74  144]]\n"
     ]
    }
   ],
   "source": [
    "from sklearn.metrics import confusion_matrix\n",
    "print(confusion_matrix(y_test_pred, y_test))"
   ]
  },
  {
   "cell_type": "markdown",
   "id": "97848dd7",
   "metadata": {},
   "source": [
    "## Подбор количества нейронов в первом скрытом слое"
   ]
  },
  {
   "cell_type": "code",
   "execution_count": 489,
   "id": "65859678",
   "metadata": {},
   "outputs": [
    {
     "name": "stdout",
     "output_type": "stream",
     "text": [
      "Wall time: 2min 54s\n"
     ]
    }
   ],
   "source": [
    "%%time\n",
    "hidden_layer_arr = np.arange(1, 51)\n",
    "test_err = []\n",
    "train_err = []\n",
    "train_acc = []\n",
    "test_acc = []\n",
    "\n",
    "for my_hidden_layer_sizes in hidden_layer_arr:\n",
    "    mlp_model = MLPClassifier(alpha = alpha_opt, \n",
    "                              hidden_layer_sizes = my_hidden_layer_sizes,\n",
    "                              solver = 'lbfgs', \n",
    "                              max_iter = 1000, \n",
    "                              activation = 'logistic',\n",
    "                              random_state = 42)\n",
    "    \n",
    "    \n",
    "    mlp_model.fit(X_train, y_train)\n",
    "\n",
    "    y_train_pred = mlp_model.predict(X_train)\n",
    "    y_test_pred = mlp_model.predict(X_test)\n",
    "    \n",
    "    train_err.append(np.mean(y_train != y_train_pred))\n",
    "    test_err.append(np.mean(y_test != y_test_pred))\n",
    "    train_acc.append(accuracy_score(y_train, y_train_pred))\n",
    "    test_acc.append(accuracy_score(y_test, y_test_pred))"
   ]
  },
  {
   "cell_type": "code",
   "execution_count": 490,
   "id": "d51164f2",
   "metadata": {},
   "outputs": [
    {
     "data": {
      "image/png": "[encoded data removed]",
      "text/plain": [
       "<Figure size 432x288 with 1 Axes>"
      ]
     },
     "metadata": {
      "needs_background": "light"
     },
     "output_type": "display_data"
    }
   ],
   "source": [
    "plt.semilogx(hidden_layer, train_err, 'b-o', label = 'train')\n",
    "plt.semilogx(hidden_layer, test_err, 'r-o', label = 'test')\n",
    "plt.xlim([np.min(hidden_layer), np.max(hidden_layer)])\n",
    "plt.title('Error vs. hidden_layer_sizes')\n",
    "plt.xlabel('hidden_layer_sizes')\n",
    "plt.ylabel('Error')\n",
    "plt.legend()\n",
    "pass"
   ]
  },
  {
   "cell_type": "code",
   "execution_count": 491,
   "id": "3eb1a78d",
   "metadata": {},
   "outputs": [
    {
     "data": {
      "image/png": "[encoded data removed]",
      "text/plain": [
       "<Figure size 432x288 with 1 Axes>"
      ]
     },
     "metadata": {
      "needs_background": "light"
     },
     "output_type": "display_data"
    }
   ],
   "source": [
    "plt.semilogx(hidden_layer, train_acc, 'b-o', label = 'train')\n",
    "plt.semilogx(hidden_layer, test_acc, 'r-o', label = 'test')\n",
    "plt.xlim([np.min(hidden_layer), np.max(hidden_layer)])\n",
    "plt.title('Accuracy vs. hidden_layer_sizes')\n",
    "plt.xlabel('hidden_layer_sizes')\n",
    "plt.ylabel('Accuracy')\n",
    "plt.legend()\n",
    "pass"
   ]
  },
  {
   "cell_type": "code",
   "execution_count": 492,
   "id": "b29968b5",
   "metadata": {},
   "outputs": [
    {
     "name": "stdout",
     "output_type": "stream",
     "text": [
      "Min error on X_train with optimal alpha:  0.07741714706888836\n",
      "Min error on X_test with optimal alpha:  0.07437233538607295\n"
     ]
    }
   ],
   "source": [
    "min_train_err = np.min(train_err)\n",
    "min_test_err = np.min(test_err)\n",
    "print(\"Min error on X_train with optimal alpha: \", min_train_err)\n",
    "print(\"Min error on X_test with optimal alpha: \", min_test_err)"
   ]
  },
  {
   "cell_type": "code",
   "execution_count": 493,
   "id": "919b03b6",
   "metadata": {},
   "outputs": [
    {
     "name": "stdout",
     "output_type": "stream",
     "text": [
      "hidden_layer_sizes optimal =  10\n"
     ]
    }
   ],
   "source": [
    "hidden_layer_local_opt = hidden_layer[test_err == min_test_err][0]\n",
    "print('hidden_layer_sizes optimal = ', hidden_layer_local_opt)"
   ]
  },
  {
   "cell_type": "code",
   "execution_count": 494,
   "id": "9bb82231",
   "metadata": {},
   "outputs": [
    {
     "name": "stdout",
     "output_type": "stream",
     "text": [
      "Wall time: 1.27 s\n"
     ]
    },
    {
     "data": {
      "text/plain": [
       "MLPClassifier(activation='logistic', alpha=19.952623149688787,\n",
       "              hidden_layer_sizes=10, max_iter=1000, random_state=42,\n",
       "              solver='lbfgs')"
      ]
     },
     "execution_count": 494,
     "metadata": {},
     "output_type": "execute_result"
    }
   ],
   "source": [
    "%%time\n",
    "mlp_model = MLPClassifier(alpha = alpha_opt, \n",
    "                          hidden_layer_sizes = hidden_layer_local_opt,\n",
    "                          solver = 'lbfgs', \n",
    "                          max_iter = 1000, \n",
    "                          activation = 'logistic',\n",
    "                          random_state = 42)\n",
    "\n",
    "mlp_model.fit(X_train, y_train)"
   ]
  },
  {
   "cell_type": "code",
   "execution_count": 495,
   "id": "910ed2e0",
   "metadata": {},
   "outputs": [
    {
     "name": "stdout",
     "output_type": "stream",
     "text": [
      "Error on X_train with optimal alpha and hidden_layer_sizes:  0.07804890889468004\n",
      "Error on X_test with optimal alpha and hidden_layer_sizes:  0.07437233538607295\n"
     ]
    }
   ],
   "source": [
    "y_train_pred = mlp_model.predict(X_train)\n",
    "y_test_pred = mlp_model.predict(X_test)\n",
    "\n",
    "err_train = np.mean(y_train != y_train_pred)\n",
    "err_test = np.mean(y_test != y_test_pred)\n",
    "\n",
    "print(\"Error on X_train with optimal alpha and hidden_layer_sizes: \", err_train)\n",
    "print(\"Error on X_test with optimal alpha and hidden_layer_sizes: \", err_test)"
   ]
  },
  {
   "cell_type": "markdown",
   "id": "1d1aec6e",
   "metadata": {},
   "source": [
    "## Матрица рассогласования"
   ]
  },
  {
   "cell_type": "code",
   "execution_count": 498,
   "id": "ae8ada87",
   "metadata": {},
   "outputs": [
    {
     "name": "stdout",
     "output_type": "stream",
     "text": [
      "[[3763  248]\n",
      " [  66  145]]\n"
     ]
    }
   ],
   "source": [
    "from sklearn.metrics import confusion_matrix\n",
    "print(confusion_matrix(y_test_pred, y_test))"
   ]
  },
  {
   "cell_type": "code",
   "execution_count": 500,
   "id": "95f61999",
   "metadata": {},
   "outputs": [
    {
     "data": {
      "image/png": "[encoded data removed]",
      "text/plain": [
       "<Figure size 432x288 with 2 Axes>"
      ]
     },
     "metadata": {
      "needs_background": "light"
     },
     "output_type": "display_data"
    }
   ],
   "source": [
    "M = confusion_matrix(y_test_pred, y_test)\n",
    "M = np.sqrt(M)\n",
    "plt.imshow(M, interpolation = 'nearest')\n",
    "plt.set_cmap('binary')\n",
    "plt.xticks(range(1))\n",
    "plt.yticks(range(1))\n",
    "plt.xlabel(\"true label\")\n",
    "plt.ylabel(\"predicted label\")\n",
    "plt.colorbar()\n",
    "pass"
   ]
  },
  {
   "cell_type": "markdown",
   "id": "ac421744",
   "metadata": {},
   "source": [
    "## Другие метрики качества"
   ]
  },
  {
   "cell_type": "code",
   "execution_count": 501,
   "id": "8a27470c",
   "metadata": {},
   "outputs": [
    {
     "name": "stdout",
     "output_type": "stream",
     "text": [
      "              precision    recall  f1-score   support\n",
      "\n",
      "           0       0.94      0.98      0.96      3829\n",
      "           1       0.69      0.37      0.48       393\n",
      "\n",
      "    accuracy                           0.93      4222\n",
      "   macro avg       0.81      0.68      0.72      4222\n",
      "weighted avg       0.91      0.93      0.92      4222\n",
      "\n"
     ]
    }
   ],
   "source": [
    "from sklearn.metrics import classification_report\n",
    "print(classification_report(y_test, y_test_pred))"
   ]
  },
  {
   "cell_type": "markdown",
   "id": "953219d0",
   "metadata": {},
   "source": [
    "## Выводы:"
   ]
  },
  {
   "cell_type": "markdown",
   "id": "655650e5",
   "metadata": {},
   "source": [
    "1. Наименьшая полученная ошибка на тестовой выборке равна 0.0743 Она была получена при оптимальном параметре alpha_opt = 19.95 и оптимальном количестве нейронов в первом скрытом слое hidden_layer_sizes optimal =  10"
   ]
  }
 ],
 "metadata": {
  "kernelspec": {
   "display_name": "Python 3",
   "language": "python",
   "name": "python3"
  },
  "language_info": {
   "codemirror_mode": {
    "name": "ipython",
    "version": 3
   },
   "file_extension": ".py",
   "mimetype": "text/x-python",
   "name": "python",
   "nbconvert_exporter": "python",
   "pygments_lexer": "ipython3",
   "version": "3.8.8"
  }
 },
 "nbformat": 4,
 "nbformat_minor": 5
}
